{
 "cells": [
  {
   "cell_type": "code",
   "execution_count": 1,
   "metadata": {},
   "outputs": [],
   "source": [
    "import warnings\n",
    "import numpy as np\n",
    "import pandas as pd\n",
    "from sklearn.metrics import confusion_matrix\n",
    "from sklearn.neighbors import LocalOutlierFactor\n",
    "from sklearn.neighbors import KNeighborsClassifier"
   ]
  },
  {
   "cell_type": "code",
   "execution_count": 2,
   "metadata": {},
   "outputs": [],
   "source": [
    "warnings.simplefilter('ignore')"
   ]
  },
  {
   "cell_type": "code",
   "execution_count": 3,
   "metadata": {},
   "outputs": [
    {
     "data": {
      "text/plain": [
       "(5657, 3198)"
      ]
     },
     "execution_count": 3,
     "metadata": {},
     "output_type": "execute_result"
    }
   ],
   "source": [
    "data_raw = pd.read_csv('exo-planets.csv')\n",
    "data_raw.shape"
   ]
  },
  {
   "cell_type": "code",
   "execution_count": 4,
   "metadata": {},
   "outputs": [
    {
     "data": {
      "text/plain": [
       "(5657, 3198)"
      ]
     },
     "execution_count": 4,
     "metadata": {},
     "output_type": "execute_result"
    }
   ],
   "source": [
    "data = data_raw.drop('exo', axis=1)\n",
    "data = ((data-data.mean())/data.std())*10\n",
    "data['exo'] = data_raw['exo']\n",
    "\n",
    "data.shape"
   ]
  },
  {
   "cell_type": "code",
   "execution_count": 5,
   "metadata": {},
   "outputs": [
    {
     "data": {
      "text/plain": [
       "0    5615\n",
       "1      42\n",
       "Name: exo, dtype: int64"
      ]
     },
     "execution_count": 5,
     "metadata": {},
     "output_type": "execute_result"
    }
   ],
   "source": [
    "data['exo'].value_counts()"
   ]
  },
  {
   "cell_type": "code",
   "execution_count": 6,
   "metadata": {},
   "outputs": [
    {
     "data": {
      "text/html": [
       "<div>\n",
       "<style scoped>\n",
       "    .dataframe tbody tr th:only-of-type {\n",
       "        vertical-align: middle;\n",
       "    }\n",
       "\n",
       "    .dataframe tbody tr th {\n",
       "        vertical-align: top;\n",
       "    }\n",
       "\n",
       "    .dataframe thead th {\n",
       "        text-align: right;\n",
       "    }\n",
       "</style>\n",
       "<table border=\"1\" class=\"dataframe\">\n",
       "  <thead>\n",
       "    <tr style=\"text-align: right;\">\n",
       "      <th></th>\n",
       "      <th>FLUX.1</th>\n",
       "      <th>FLUX.2</th>\n",
       "      <th>FLUX.3</th>\n",
       "      <th>FLUX.4</th>\n",
       "      <th>FLUX.5</th>\n",
       "      <th>FLUX.6</th>\n",
       "      <th>FLUX.7</th>\n",
       "      <th>FLUX.8</th>\n",
       "      <th>FLUX.9</th>\n",
       "      <th>FLUX.10</th>\n",
       "      <th>...</th>\n",
       "      <th>FLUX.3189</th>\n",
       "      <th>FLUX.3190</th>\n",
       "      <th>FLUX.3191</th>\n",
       "      <th>FLUX.3192</th>\n",
       "      <th>FLUX.3193</th>\n",
       "      <th>FLUX.3194</th>\n",
       "      <th>FLUX.3195</th>\n",
       "      <th>FLUX.3196</th>\n",
       "      <th>FLUX.3197</th>\n",
       "      <th>exo</th>\n",
       "    </tr>\n",
       "  </thead>\n",
       "  <tbody>\n",
       "    <tr>\n",
       "      <th>0</th>\n",
       "      <td>-0.042358</td>\n",
       "      <td>-0.050430</td>\n",
       "      <td>-0.078400</td>\n",
       "      <td>-0.112735</td>\n",
       "      <td>-0.104943</td>\n",
       "      <td>-0.142377</td>\n",
       "      <td>-0.125858</td>\n",
       "      <td>-0.123104</td>\n",
       "      <td>-0.117520</td>\n",
       "      <td>-0.186855</td>\n",
       "      <td>...</td>\n",
       "      <td>-0.171166</td>\n",
       "      <td>-0.172780</td>\n",
       "      <td>-0.142990</td>\n",
       "      <td>-0.121205</td>\n",
       "      <td>-0.103707</td>\n",
       "      <td>0.266792</td>\n",
       "      <td>0.315605</td>\n",
       "      <td>0.240603</td>\n",
       "      <td>0.154565</td>\n",
       "      <td>1</td>\n",
       "    </tr>\n",
       "    <tr>\n",
       "      <th>1</th>\n",
       "      <td>-0.106226</td>\n",
       "      <td>-0.106303</td>\n",
       "      <td>-0.115569</td>\n",
       "      <td>-0.118845</td>\n",
       "      <td>-0.122810</td>\n",
       "      <td>-0.120011</td>\n",
       "      <td>-0.104925</td>\n",
       "      <td>-0.118150</td>\n",
       "      <td>-0.119527</td>\n",
       "      <td>-0.140792</td>\n",
       "      <td>...</td>\n",
       "      <td>-0.150485</td>\n",
       "      <td>-0.155870</td>\n",
       "      <td>-0.153558</td>\n",
       "      <td>-0.132259</td>\n",
       "      <td>-0.121799</td>\n",
       "      <td>0.237097</td>\n",
       "      <td>0.283416</td>\n",
       "      <td>0.247548</td>\n",
       "      <td>0.196882</td>\n",
       "      <td>1</td>\n",
       "    </tr>\n",
       "    <tr>\n",
       "      <th>2</th>\n",
       "      <td>0.168782</td>\n",
       "      <td>0.164302</td>\n",
       "      <td>0.154913</td>\n",
       "      <td>0.131402</td>\n",
       "      <td>0.118007</td>\n",
       "      <td>0.112189</td>\n",
       "      <td>0.132280</td>\n",
       "      <td>0.140745</td>\n",
       "      <td>0.136595</td>\n",
       "      <td>0.155235</td>\n",
       "      <td>...</td>\n",
       "      <td>-0.137025</td>\n",
       "      <td>-0.144864</td>\n",
       "      <td>-0.154614</td>\n",
       "      <td>-0.135573</td>\n",
       "      <td>-0.120951</td>\n",
       "      <td>0.237039</td>\n",
       "      <td>0.262700</td>\n",
       "      <td>0.192840</td>\n",
       "      <td>0.113913</td>\n",
       "      <td>1</td>\n",
       "    </tr>\n",
       "    <tr>\n",
       "      <th>3</th>\n",
       "      <td>0.069600</td>\n",
       "      <td>0.074759</td>\n",
       "      <td>0.055004</td>\n",
       "      <td>0.038766</td>\n",
       "      <td>0.055659</td>\n",
       "      <td>0.046124</td>\n",
       "      <td>0.071081</td>\n",
       "      <td>0.061463</td>\n",
       "      <td>0.075513</td>\n",
       "      <td>0.069755</td>\n",
       "      <td>...</td>\n",
       "      <td>-0.142063</td>\n",
       "      <td>-0.148984</td>\n",
       "      <td>-0.141951</td>\n",
       "      <td>-0.127109</td>\n",
       "      <td>-0.124446</td>\n",
       "      <td>0.238803</td>\n",
       "      <td>0.269494</td>\n",
       "      <td>0.226338</td>\n",
       "      <td>0.192649</td>\n",
       "      <td>1</td>\n",
       "    </tr>\n",
       "    <tr>\n",
       "      <th>4</th>\n",
       "      <td>-0.620292</td>\n",
       "      <td>-0.618665</td>\n",
       "      <td>-0.616768</td>\n",
       "      <td>-0.610479</td>\n",
       "      <td>-0.562517</td>\n",
       "      <td>-0.534441</td>\n",
       "      <td>-0.497414</td>\n",
       "      <td>-0.542629</td>\n",
       "      <td>-0.565120</td>\n",
       "      <td>-0.617125</td>\n",
       "      <td>...</td>\n",
       "      <td>-0.259730</td>\n",
       "      <td>-0.245196</td>\n",
       "      <td>-0.223769</td>\n",
       "      <td>-0.223060</td>\n",
       "      <td>-0.208394</td>\n",
       "      <td>0.011268</td>\n",
       "      <td>0.054350</td>\n",
       "      <td>-0.024525</td>\n",
       "      <td>-0.180585</td>\n",
       "      <td>1</td>\n",
       "    </tr>\n",
       "  </tbody>\n",
       "</table>\n",
       "<p>5 rows × 3198 columns</p>\n",
       "</div>"
      ],
      "text/plain": [
       "     FLUX.1    FLUX.2    FLUX.3    FLUX.4    FLUX.5    FLUX.6    FLUX.7  \\\n",
       "0 -0.042358 -0.050430 -0.078400 -0.112735 -0.104943 -0.142377 -0.125858   \n",
       "1 -0.106226 -0.106303 -0.115569 -0.118845 -0.122810 -0.120011 -0.104925   \n",
       "2  0.168782  0.164302  0.154913  0.131402  0.118007  0.112189  0.132280   \n",
       "3  0.069600  0.074759  0.055004  0.038766  0.055659  0.046124  0.071081   \n",
       "4 -0.620292 -0.618665 -0.616768 -0.610479 -0.562517 -0.534441 -0.497414   \n",
       "\n",
       "     FLUX.8    FLUX.9   FLUX.10  ...  FLUX.3189  FLUX.3190  FLUX.3191  \\\n",
       "0 -0.123104 -0.117520 -0.186855  ...  -0.171166  -0.172780  -0.142990   \n",
       "1 -0.118150 -0.119527 -0.140792  ...  -0.150485  -0.155870  -0.153558   \n",
       "2  0.140745  0.136595  0.155235  ...  -0.137025  -0.144864  -0.154614   \n",
       "3  0.061463  0.075513  0.069755  ...  -0.142063  -0.148984  -0.141951   \n",
       "4 -0.542629 -0.565120 -0.617125  ...  -0.259730  -0.245196  -0.223769   \n",
       "\n",
       "   FLUX.3192  FLUX.3193  FLUX.3194  FLUX.3195  FLUX.3196  FLUX.3197  exo  \n",
       "0  -0.121205  -0.103707   0.266792   0.315605   0.240603   0.154565    1  \n",
       "1  -0.132259  -0.121799   0.237097   0.283416   0.247548   0.196882    1  \n",
       "2  -0.135573  -0.120951   0.237039   0.262700   0.192840   0.113913    1  \n",
       "3  -0.127109  -0.124446   0.238803   0.269494   0.226338   0.192649    1  \n",
       "4  -0.223060  -0.208394   0.011268   0.054350  -0.024525  -0.180585    1  \n",
       "\n",
       "[5 rows x 3198 columns]"
      ]
     },
     "execution_count": 6,
     "metadata": {},
     "output_type": "execute_result"
    }
   ],
   "source": [
    "data.head()"
   ]
  },
  {
   "cell_type": "markdown",
   "metadata": {},
   "source": [
    "---"
   ]
  },
  {
   "cell_type": "code",
   "execution_count": 7,
   "metadata": {},
   "outputs": [
    {
     "name": "stdout",
     "output_type": "stream",
     "text": [
      "(5567, 3197) (90, 3198)\n"
     ]
    }
   ],
   "source": [
    "test = data.loc[:89]\n",
    "train = data.loc[90:].drop('exo', axis=1)\n",
    "\n",
    "print(train.shape, test.shape)"
   ]
  },
  {
   "cell_type": "code",
   "execution_count": 8,
   "metadata": {},
   "outputs": [],
   "source": [
    "mod = LocalOutlierFactor(contamination=0.18, n_neighbors=25, novelty=False)\n",
    "preds = mod.fit_predict(train)"
   ]
  },
  {
   "cell_type": "code",
   "execution_count": 9,
   "metadata": {},
   "outputs": [],
   "source": [
    "train['pred'] = preds\n",
    "train_clean = train.drop(train[train['pred']==-1].index, axis=0)\n",
    "train_clean.drop('pred', axis=1, inplace=True)"
   ]
  },
  {
   "cell_type": "code",
   "execution_count": 10,
   "metadata": {},
   "outputs": [],
   "source": [
    "mod = LocalOutlierFactor(contamination=0.18, n_neighbors=15, novelty=True)\n",
    "mod.fit(train_clean)\n",
    "preds_exo = mod.predict(test.drop('exo', axis=1))"
   ]
  },
  {
   "cell_type": "code",
   "execution_count": 11,
   "metadata": {},
   "outputs": [],
   "source": [
    "test['pred'] = preds_exo\n",
    "test['pred'] = np.where(test['pred']==-1, 1, 0)"
   ]
  },
  {
   "cell_type": "code",
   "execution_count": 12,
   "metadata": {},
   "outputs": [],
   "source": [
    "tn, fp, fn, tp = confusion_matrix(\n",
    "    test['exo'].values, \n",
    "    test['pred'].values,\n",
    "    ).ravel()"
   ]
  },
  {
   "cell_type": "code",
   "execution_count": 13,
   "metadata": {},
   "outputs": [
    {
     "name": "stdout",
     "output_type": "stream",
     "text": [
      "0.6888888888888889\n",
      "0.6875\n",
      "0.6904761904761905\n"
     ]
    }
   ],
   "source": [
    "acc = (tp+tn)/(tn+fp+fn+tp)\n",
    "spec = tn/(tn+fp)\n",
    "sens = tp/(tp+fn)\n",
    "\n",
    "print(acc, spec, sens, sep='\\n')"
   ]
  },
  {
   "cell_type": "markdown",
   "metadata": {},
   "source": [
    "---"
   ]
  },
  {
   "cell_type": "code",
   "execution_count": 14,
   "metadata": {},
   "outputs": [
    {
     "name": "stdout",
     "output_type": "stream",
     "text": [
      "(5657, 3198) (90, 3198)\n"
     ]
    }
   ],
   "source": [
    "test = data.loc[:89]\n",
    "train = data.copy(deep=True)\n",
    "\n",
    "print(train.shape, test.shape)"
   ]
  },
  {
   "cell_type": "code",
   "execution_count": 15,
   "metadata": {},
   "outputs": [],
   "source": [
    "mod = KNeighborsClassifier(n_neighbors=20)\n",
    "mod.fit(train.drop('exo', axis=1), train['exo']);"
   ]
  },
  {
   "cell_type": "code",
   "execution_count": 16,
   "metadata": {},
   "outputs": [],
   "source": [
    "preds = mod.predict(test.drop('exo', axis=1))\n",
    "true = test['exo'].values"
   ]
  },
  {
   "cell_type": "code",
   "execution_count": 17,
   "metadata": {},
   "outputs": [],
   "source": [
    "tn, fp, fn, tp = confusion_matrix(\n",
    "    true, \n",
    "    preds,\n",
    "    ).ravel()"
   ]
  },
  {
   "cell_type": "code",
   "execution_count": 18,
   "metadata": {},
   "outputs": [
    {
     "name": "stdout",
     "output_type": "stream",
     "text": [
      "0.5333333333333333\n",
      "1.0\n",
      "0.0\n"
     ]
    }
   ],
   "source": [
    "acc = (tp+tn)/(tn+fp+fn+tp)\n",
    "spec = tn/(tn+fp)\n",
    "sens = tp/(tp+fn)\n",
    "\n",
    "print(acc, spec, sens, sep='\\n')"
   ]
  },
  {
   "cell_type": "markdown",
   "metadata": {},
   "source": [
    " "
   ]
  }
 ],
 "metadata": {
  "kernelspec": {
   "display_name": "Python 3",
   "language": "python",
   "name": "python3"
  },
  "language_info": {
   "codemirror_mode": {
    "name": "ipython",
    "version": 3
   },
   "file_extension": ".py",
   "mimetype": "text/x-python",
   "name": "python",
   "nbconvert_exporter": "python",
   "pygments_lexer": "ipython3",
   "version": "3.7.7"
  }
 },
 "nbformat": 4,
 "nbformat_minor": 4
}
